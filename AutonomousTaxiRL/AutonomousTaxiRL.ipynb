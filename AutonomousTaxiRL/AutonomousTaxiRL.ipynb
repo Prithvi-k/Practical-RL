{
 "cells": [
  {
   "cell_type": "code",
   "execution_count": null,
   "id": "83ba34bc",
   "metadata": {},
   "outputs": [],
   "source": [
    "#!pip install matplotlib"
   ]
  },
  {
   "cell_type": "code",
   "execution_count": 1,
   "id": "d7af50ea",
   "metadata": {},
   "outputs": [],
   "source": [
    "import gym\n",
    "import random\n",
    "import numpy as np\n",
    "import matplotlib.pyplot as plt\n",
    "from IPython.display import clear_output"
   ]
  },
  {
   "cell_type": "code",
   "execution_count": 2,
   "id": "90284495",
   "metadata": {},
   "outputs": [],
   "source": [
    "#Change environment name to whichever enevironment to be trained on. Check : https://gym.openai.com/envs/#toy_text\n",
    "env = gym.make('FrozenLake-v0')"
   ]
  },
  {
   "cell_type": "code",
   "execution_count": 3,
   "id": "6c173ff2",
   "metadata": {},
   "outputs": [
    {
     "name": "stdout",
     "output_type": "stream",
     "text": [
      "Episode: 9\n",
      "Score: 5.0\n"
     ]
    }
   ],
   "source": [
    "episodes = 10\n",
    "\n",
    "for episode in range(1, episodes):\n",
    "    state = env.reset()\n",
    "    done = False\n",
    "    score = 0\n",
    "    \n",
    "    while not done:\n",
    "        env.render()\n",
    "        score, reward, done, info = env.step(env.action_space.sample())\n",
    "        score += reward\n",
    "        clear_output(wait=True)\n",
    "        print(\"Episode: {}\\nScore: {}\".format(episode, score))\n",
    "\n",
    "env.close()"
   ]
  },
  {
   "cell_type": "code",
   "execution_count": 4,
   "id": "48453011",
   "metadata": {},
   "outputs": [],
   "source": [
    "#Creating Q Table\n",
    "action = env.action_space.n\n",
    "state = env.observation_space.n\n",
    "\n",
    "q_table = np.zeros((state, action))"
   ]
  },
  {
   "cell_type": "code",
   "execution_count": null,
   "id": "3055687d",
   "metadata": {},
   "outputs": [],
   "source": [
    "q_table.shape"
   ]
  },
  {
   "cell_type": "code",
   "execution_count": null,
   "id": "edc31466",
   "metadata": {},
   "outputs": [],
   "source": [
    "#To see q_table array\n",
    "\n",
    "#q_table.shape\n",
    "#q_table"
   ]
  },
  {
   "cell_type": "code",
   "execution_count": 5,
   "id": "3c9db85f",
   "metadata": {},
   "outputs": [],
   "source": [
    "#Parameters for Q Learning\n",
    "num_episodes = 10000\n",
    "max_steps_per_episode = 100\n",
    "\n",
    "learning_rate = 0.1\n",
    "discount_rate = 0.99\n",
    "\n",
    "exploration_rate = 1\n",
    "max_exploration_rate = 1\n",
    "min_exploration_rate = 0.01\n",
    "exploration_decay_rate = 0.001\n",
    "\n",
    "rewards_all_episodes = []"
   ]
  },
  {
   "cell_type": "code",
   "execution_count": 9,
   "id": "30297372",
   "metadata": {},
   "outputs": [
    {
     "name": "stdout",
     "output_type": "stream",
     "text": [
      "*********** Training Finished ***********\n"
     ]
    }
   ],
   "source": [
    "#Q-Learning Algorithm\n",
    "\n",
    "for episode in range(num_episodes):\n",
    "    state = env.reset()\n",
    "    done = False\n",
    "    rewards_current_episode = 0\n",
    "    \n",
    "    for step in range(max_steps_per_episode):\n",
    "        \n",
    "        #Exploration vs Exploitation Trade-off\n",
    "        exploration_threshold = random.uniform(0, 1)\n",
    "        if exploration_threshold > exploration_rate:\n",
    "            action = np.argmax(q_table[state,:])\n",
    "        else:\n",
    "            action = env.action_space.sample()\n",
    "        \n",
    "        new_state, reward, done, info = env.step(action)\n",
    "        \n",
    "        #Update Q-Table\n",
    "        q_table[state, action] = q_table[state, action] * (1 - learning_rate) + (learning_rate * (reward + discount_rate * (np.max(q_table[new_state, :]))))\n",
    "        \n",
    "        state = new_state\n",
    "        rewards_current_episode += reward\n",
    "        \n",
    "        if done == True:\n",
    "            break\n",
    "        \n",
    "        exploration_rate = min_exploration_rate + \\\n",
    "                                (max_exploration_rate - min_exploration_rate) * np.exp(-exploration_decay_rate * episode)\n",
    "        \n",
    "        rewards_all_episodes.append(rewards_current_episode)\n",
    "        \n",
    "print(\"*********** Training Finished ***********\")"
   ]
  },
  {
   "cell_type": "code",
   "execution_count": 10,
   "id": "ab314a2c",
   "metadata": {},
   "outputs": [
    {
     "data": {
      "text/plain": [
       "array([[0.54068213, 0.46857279, 0.46437806, 0.46668397],\n",
       "       [0.33615464, 0.2773223 , 0.30054463, 0.46872215],\n",
       "       [0.4155097 , 0.39765041, 0.41133141, 0.43636624],\n",
       "       [0.34410967, 0.31100665, 0.25840948, 0.41994956],\n",
       "       [0.56486933, 0.41555107, 0.29668138, 0.27415904],\n",
       "       [0.        , 0.        , 0.        , 0.        ],\n",
       "       [0.1931075 , 0.24668493, 0.40081547, 0.14779965],\n",
       "       [0.        , 0.        , 0.        , 0.        ],\n",
       "       [0.39575195, 0.34729593, 0.36212874, 0.6403392 ],\n",
       "       [0.48755026, 0.6873846 , 0.50412454, 0.35192124],\n",
       "       [0.65619665, 0.34588327, 0.29825087, 0.31341614],\n",
       "       [0.        , 0.        , 0.        , 0.        ],\n",
       "       [0.        , 0.        , 0.        , 0.        ],\n",
       "       [0.42556353, 0.45379913, 0.76704576, 0.54200276],\n",
       "       [0.72387899, 0.88036834, 0.71638282, 0.71404724],\n",
       "       [0.        , 0.        , 0.        , 0.        ]])"
      ]
     },
     "execution_count": 10,
     "metadata": {},
     "output_type": "execute_result"
    }
   ],
   "source": [
    "#Most Optimal Q-Table\n",
    "q_table"
   ]
  },
  {
   "cell_type": "code",
   "execution_count": null,
   "id": "1acc7874",
   "metadata": {},
   "outputs": [],
   "source": [
    "#Calculate and print average reward per thousand epidsodes\n",
    "rewards_per_thousand_episodes = np.split(np.array(rewards_all_episodes), (num_episodes/1000))\n",
    "count = 1000\n",
    "\n",
    "print(\"Average per thousand episodes\")\n",
    "for r in rewards_per_thousand_episodes:\n",
    "    print(count,  \" : \", str(sum(r/1000)))\n",
    "    count += 1000"
   ]
  },
  {
   "cell_type": "code",
   "execution_count": null,
   "id": "14e7509c",
   "metadata": {},
   "outputs": [
    {
     "name": "stdout",
     "output_type": "stream",
     "text": [
      "  (Left)\n",
      "\u001b[41mS\u001b[0mFFF\n",
      "FHFH\n",
      "FFFH\n",
      "HFFG\n"
     ]
    }
   ],
   "source": [
    "#Visualise Agent\n",
    "import time\n",
    "\n",
    "for episode in range(3):\n",
    "    state = env.reset()\n",
    "    done = False\n",
    "    print(\"Episode is : \" + str(episode))\n",
    "    time.sleep(1)\n",
    "    \n",
    "    for step in range(max_steps_per_episode):\n",
    "        clear_output(wait=True)\n",
    "        env.render()\n",
    "        time.sleep(0.4)\n",
    "        action = np.argmax(q_table[state,:])\n",
    "        \n",
    "        new_state, reward, done, info = env.step(action)\n",
    "        \n",
    "        if done:\n",
    "            clear_output(wait=True)\n",
    "            env.render()\n",
    "            if reward == 1:\n",
    "                print(\"****** Reached Goal ******\")\n",
    "                time.sleep(2)\n",
    "                clear_output(wait=True)\n",
    "            else:\n",
    "                print(\"****** Failed ******\")\n",
    "                time.sleep(2)\n",
    "                clear_output(wait=True)\n",
    "            break\n",
    "        \n",
    "        state = new_state\n",
    "\n",
    "env.close()"
   ]
  },
  {
   "cell_type": "code",
   "execution_count": null,
   "id": "1ad28ba4",
   "metadata": {},
   "outputs": [],
   "source": []
  }
 ],
 "metadata": {
  "kernelspec": {
   "display_name": "Python 3",
   "language": "python",
   "name": "python3"
  },
  "language_info": {
   "codemirror_mode": {
    "name": "ipython",
    "version": 3
   },
   "file_extension": ".py",
   "mimetype": "text/x-python",
   "name": "python",
   "nbconvert_exporter": "python",
   "pygments_lexer": "ipython3",
   "version": "3.6.13"
  }
 },
 "nbformat": 4,
 "nbformat_minor": 5
}
